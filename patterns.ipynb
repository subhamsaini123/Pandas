{
 "cells": [
  {
   "cell_type": "code",
   "execution_count": null,
   "id": "cfbf48dd",
   "metadata": {},
   "outputs": [],
   "source": [
    "#1. Write a Python program to calculate the length of a string.\n",
    "a=\"my name is subham\"\n",
    "print(len(a))"
   ]
  },
  {
   "cell_type": "code",
   "execution_count": null,
   "id": "36cafe9d",
   "metadata": {},
   "outputs": [],
   "source": [
    "#withoout length function\n",
    "def string_length(str1):\n",
    "    count=0\n",
    "    for i in str1:\n",
    "        count=count+1\n",
    "    return count\n",
    "string_length(\"subham\")"
   ]
  },
  {
   "cell_type": "code",
   "execution_count": null,
   "id": "403772f0",
   "metadata": {},
   "outputs": [],
   "source": [
    "# user input count length string\n",
    "def string_length(str1):\n",
    "    count=0\n",
    "    for i in str1:\n",
    "        count=count+1\n",
    "    return count\n",
    "length=input(\"enter string:\")\n",
    "string_length(length)"
   ]
  },
  {
   "cell_type": "code",
   "execution_count": null,
   "id": "e8c128e4",
   "metadata": {},
   "outputs": [],
   "source": [
    "# 2. Write a Python program to count the number of characters (character frequency) in a string.\n",
    "# Sample String : google.com'\n",
    "# Expected Result : {'g': 2, 'o': 3, 'l': 1, 'e': 1, '.': 1, 'c': 1, 'm': 1}\n",
    "def count_word(str1):\n",
    "    count = {}\n",
    "    for i in str1:\n",
    "        if i in count:\n",
    "            count[i] += 1\n",
    "        else:\n",
    "            count[i] = 1\n",
    "\n",
    "    return count\n",
    "\n",
    "user_input = input(\"Enter a string: \")\n",
    "count_word(user_input)"
   ]
  },
  {
   "cell_type": "code",
   "execution_count": null,
   "id": "6bdac6a3",
   "metadata": {},
   "outputs": [],
   "source": [
    "# 3. Write a Python program to get a string made of the first 2 and last 2 characters of a given string.\n",
    "#If the string length is less than 2, return the empty string instead.\n",
    "# Sample String : 'w3resource'\n",
    "# Expected Result : 'w3ce'\n",
    "# Sample String : 'w3'\n",
    "# Expected Result : 'w3w3'\n",
    "# Sample String : ' w'\n",
    "# Expected Result : Empty String\n",
    "\n",
    "def string_both_ends(str1):\n",
    "    if len(str1)<2:\n",
    "        return \" \"\n",
    "    return str1[0:2]+str1[-2:]\n",
    "print(string_both_ends(\"w3resource\"))\n",
    "print(string_both_ends('w3'))          \n",
    "print(string_both_ends('w'))     \n"
   ]
  },
  {
   "cell_type": "code",
   "execution_count": null,
   "id": "0bc74842",
   "metadata": {},
   "outputs": [],
   "source": [
    "# 4. Write a Python program to get a string from a given string \n",
    "# where all occurrences of its first char have been changed to '$', except the first char itself.\n",
    "# Sample String : 'restart'\n",
    "# Expected Result : 'resta$t'\n",
    "def change_char(str1):\n",
    "    char = str1[0]\n",
    "\n",
    "    str1 = str1.replace(char, '$')\n",
    "    str1 = char + str1[1:]\n",
    "\n",
    "    return str1\n",
    "print(change_char('restart')) "
   ]
  },
  {
   "cell_type": "code",
   "execution_count": null,
   "id": "e6fad042",
   "metadata": {},
   "outputs": [],
   "source": [
    "# 5. Write a Python program to get a single string from two given strings,\n",
    "# separated by a space and swap the first two characters of each string.\n",
    "# Sample String : 'abc', 'xyz'\n",
    "# Expected Result : 'xyc abz'\n",
    "\n",
    "def fun(a,b):\n",
    "    new_a=b[:2]+a[2:]\n",
    "    new_b=a[:2]+b[2:]\n",
    "    return new_a+\" \"+new_b\n",
    "fun(\"abc\",\"xyz\")\n",
    "    \n",
    "    \n",
    "    "
   ]
  },
  {
   "cell_type": "code",
   "execution_count": null,
   "id": "e2a18e40",
   "metadata": {},
   "outputs": [],
   "source": [
    "# 6. Write a Python program to add 'ing' at the end of a given string (length should be at least 3).\n",
    "# If the given string already ends with 'ing', add 'ly' instead. If the string length of the given string is less than 3,\n",
    "# leave it unchanged.\n",
    "# Sample String : 'abc'\n",
    "# Expected Result : 'abcing'\n",
    "# Sample String : 'string'\n",
    "# Expected Result : 'stringly'\n",
    "def add(str1):\n",
    "    if (str1[-3:]==\"ing\"):\n",
    "        print(str1+\"ly\")\n",
    "    elif len(str1)>=3:\n",
    "        print(str1+\"ing\")\n",
    "    else:\n",
    "        print(str1)\n",
    "    \n",
    "add(\"string\")\n",
    "        \n"
   ]
  },
  {
   "cell_type": "code",
   "execution_count": null,
   "id": "0bb44e30",
   "metadata": {},
   "outputs": [],
   "source": [
    "#  Write a Python function that takes a list of words and return the longest word and the length of the longest one.\n",
    "# Sample Output:\n",
    "# Longest word: Exercises\n",
    "# Length of the longest word: 9\n",
    "a=[]\n",
    "size=int(input(\"enter size:\"))\n",
    "for i in range(size):\n",
    "    val=input(\"enter string:\")\n",
    "    a.append(val)\n",
    "print(a)\n",
    "a=max(a)\n",
    "print(a)\n",
    "b=len(a)\n",
    "print(b)"
   ]
  },
  {
   "cell_type": "code",
   "execution_count": null,
   "id": "0cec3718",
   "metadata": {},
   "outputs": [],
   "source": [
    "# Write a Python program to swap cases in a given string.\n",
    "# Sample Output:\n",
    "# pYTHON eXERCISES\n",
    "# jAVA\n",
    "# nUMpY\n",
    "def swap(str1):\n",
    "    if str1:\n",
    "        return str1.swapcase()\n",
    "print(swap(\"pYTHON eXERCISES\"))"
   ]
  },
  {
   "cell_type": "code",
   "execution_count": null,
   "id": "22c82bec",
   "metadata": {},
   "outputs": [],
   "source": [
    "# without swapcase \n",
    "def swap(str1):\n",
    "    string=\" \"\n",
    "    for i in str1:\n",
    "        if i.isupper():\n",
    "            string += i.lower()\n",
    "        else:\n",
    "            string+= i.upper()\n",
    "    return string\n",
    "print(swap(\"pYTHON eXERCISES\"))"
   ]
  },
  {
   "cell_type": "code",
   "execution_count": null,
   "id": "2ff0aa08",
   "metadata": {},
   "outputs": [],
   "source": [
    "# Write a Python program to guess a number between 1 and 9.\n",
    "# Note : User is prompted to enter a guess.\n",
    "# If the user guesses wrong then the prompt appears again until the guess is correct, on successful guess,\n",
    "# user will get a \"Well guessed!\"message, and the program will exit.\n",
    "while True:\n",
    "    num=int(input(\"enter guess number 1 to 9:\"))\n",
    "    if num>1 and num<9:\n",
    "        print(\"Well guessed!\")\n",
    "        break\n",
    "    else:\n",
    "        print(\"guess is incorrect\")"
   ]
  },
  {
   "cell_type": "code",
   "execution_count": null,
   "id": "7d91c6d9",
   "metadata": {},
   "outputs": [],
   "source": [
    "# 1. Write a Python program to sum all the items in a list.\n",
    "a=[1,3,6,4,7]\n",
    "sum=0\n",
    "for i in a:\n",
    "    sum=sum+i\n",
    "print(sum)"
   ]
  },
  {
   "cell_type": "code",
   "execution_count": null,
   "id": "879a318b",
   "metadata": {},
   "outputs": [],
   "source": [
    "# with function\n",
    "def add(a):\n",
    "    sum=0\n",
    "    for i in a:\n",
    "        sum=sum+i\n",
    "    return sum\n",
    "print(add([1,3,6,4,7]))  "
   ]
  },
  {
   "cell_type": "code",
   "execution_count": null,
   "id": "348b9088",
   "metadata": {},
   "outputs": [],
   "source": [
    "#second method\n",
    "def add():\n",
    "    a=[1,3,6,4,7]\n",
    "    sum=0\n",
    "    for i in a:\n",
    "        sum=sum+i\n",
    "    return sum\n",
    "result=add()\n",
    "print(result)"
   ]
  },
  {
   "cell_type": "code",
   "execution_count": null,
   "id": "53b02c45",
   "metadata": {},
   "outputs": [],
   "source": [
    "# 1. Write a Python script to sort (ascending and descending) a dictionary by value.\n",
    "a={\"aadi\":4,\"subhu\":30,\"sam\":10}\n",
    "print(sorted(a.items()))\n",
    "print(sorted(a.items(),reverse=True))\n"
   ]
  },
  {
   "cell_type": "code",
   "execution_count": null,
   "id": "2e749ace",
   "metadata": {},
   "outputs": [],
   "source": [
    "# 5. Write a Python program to add an item to a tuple.\n",
    "\n",
    "a=(1,3,5,8,3,6)\n",
    "b=list(a)\n",
    "b.append(10)\n",
    "print(b)\n",
    "c=tuple(b)\n",
    "print(c)"
   ]
  },
  {
   "cell_type": "code",
   "execution_count": null,
   "id": "5ee3a559",
   "metadata": {},
   "outputs": [],
   "source": [
    "# Write a Python program to remove existing indentation from all of the lines in a given text.\n",
    "import textwrap\n",
    "string='''\n",
    "    Python is a widely used high-level, general-purpose, interpreted,\n",
    "    dynamic programming language. Its design philosophy emphasizes\n",
    "    code readability, and its syntax allows programmers to express\n",
    "    concepts in fewer lines of code than possible in languages such\n",
    "    as C++ or Java.\n",
    "    '''\n",
    "new_string=textwrap.dedent(string)\n",
    "print(new_string)"
   ]
  },
  {
   "cell_type": "code",
   "execution_count": null,
   "id": "6d036409",
   "metadata": {},
   "outputs": [],
   "source": [
    "# Write a Python program to count repeated characters in a string.\n",
    "# Sample string: 'thequickbrownfoxjumpsoverthelazydog'\n",
    "# Expected output :\n",
    "# o 4\n",
    "# e 3\n",
    "# u 2\n",
    "# h 2\n",
    "# r 2\n",
    "# t 2\n",
    "\n"
   ]
  },
  {
   "cell_type": "code",
   "execution_count": null,
   "id": "24dce45f",
   "metadata": {},
   "outputs": [],
   "source": [
    "def count_repeated_chars(string):\n",
    "    char_count = {}\n",
    "    \n",
    "    # Count occurrences of each character\n",
    "    for char in string:\n",
    "        if char in char_count:\n",
    "            char_count[char] += 1\n",
    "        else:\n",
    "            char_count[char] = 1\n",
    "    \n",
    "    # Filter and display repeated characters\n",
    "    repeated_chars = {char: count for char, count in char_count.items() if count > 1}\n",
    "    \n",
    "    # Sort repeated characters by their count in descending order\n",
    "    repeated_chars_sorted = sorted(repeated_chars.items(), key=lambda x: x[1], reverse=True)\n",
    "    \n",
    "    # Display the result\n",
    "    for char, count in repeated_chars_sorted:\n",
    "        print(f\"{char} {count}\")\n",
    "\n",
    "# Sample string\n",
    "sample_string = 'thequickbrownfoxjumpsoverthelazydog'\n",
    "\n",
    "# Call the function with the sample string\n",
    "count_repeated_chars(sample_string)\n"
   ]
  },
  {
   "cell_type": "code",
   "execution_count": null,
   "id": "d3e06184",
   "metadata": {},
   "outputs": [],
   "source": [
    "# Write a Python program to print the following numbers up to 2 decimal places with a sign.\n",
    "x=2.102745\n",
    "y=-3.142349\n",
    "print(\"\"+\"{:+.2f}\".format(x))\n",
    "print(\"\"+\"{:+.2f}\".format(y))"
   ]
  },
  {
   "cell_type": "code",
   "execution_count": null,
   "id": "4f26b3f9",
   "metadata": {},
   "outputs": [],
   "source": [
    "#  Write a Python program to get a list, sorted in increasing order by the last element\n",
    "#     in each tuple from a given list of non-empty tuples.\n",
    "# Sample List : [(2, 5), (1, 2), (4, 4), (2, 3), (2, 1)]\n",
    "# Expected Result : [(2, 1), (1, 2), (2, 3), (4, 4), (2, 5)]\n",
    "def last(str1):\n",
    "    sorting=sorted(str1,key=lambda x:x[-1])\n",
    "    return sorting\n",
    "new=[(2, 5), (1, 2), (4, 4), (2, 3), (2, 1)]\n",
    "print(last(new))"
   ]
  },
  {
   "cell_type": "code",
   "execution_count": null,
   "id": "dc7baa9f",
   "metadata": {},
   "outputs": [],
   "source": [
    "# 1. Write a Python script to sort (ascending and descending) a dictionary by value.\n",
    "def sort(str1, ascending=True):\n",
    "    sortt = dict(sorted(str1.items(), key=lambda x: x[1], reverse=not ascending))\n",
    "    return sortt\n",
    "\n",
    "a={1:10,2:20,3:30,4:40,5:50}\n",
    "\n",
    "b = sort(a,ascending=True)\n",
    "\n",
    "c = sort(a,ascending=False)\n",
    "\n",
    "print(b)\n",
    "print(c)\n",
    "\n"
   ]
  },
  {
   "cell_type": "code",
   "execution_count": null,
   "id": "e1348c6d",
   "metadata": {},
   "outputs": [],
   "source": [
    "# Write a Python script to add a key to a dictionary.\n",
    "\n",
    "# Sample Dictionary : {0: 10, 1: 20}\n",
    "# Expected Result : {0: 10, 1: 20, 2: 30}\n",
    "a={0:10,1:20}\n",
    "a.update({2:20})\n",
    "a"
   ]
  },
  {
   "cell_type": "code",
   "execution_count": null,
   "id": "d555d7dc",
   "metadata": {},
   "outputs": [],
   "source": [
    "a={0:10,1:20}\n",
    "a[2]=20\n",
    "a"
   ]
  },
  {
   "cell_type": "code",
   "execution_count": null,
   "id": "1698f0fa",
   "metadata": {},
   "outputs": [],
   "source": [
    "# Write a Python script to concatenate the following dictionaries to create a new one.\n",
    "\n",
    "# Sample Dictionary :\n",
    "# dic1={1:10, 2:20}\n",
    "# dic2={3:30, 4:40}\n",
    "# dic3={5:50,6:60}\n",
    "# Expected Result : {1: 10, 2: 20, 3: 30, 4: 40, 5: 50, 6: 60}\n",
    "\n"
   ]
  },
  {
   "cell_type": "code",
   "execution_count": null,
   "id": "f78a9b48",
   "metadata": {},
   "outputs": [],
   "source": [
    "a={1:10, 2:20}\n",
    "b={3:30, 4:40}\n",
    "c={5:50,6:60}\n",
    "d={}\n",
    "d.update(a)\n",
    "d.update(b)\n",
    "d.update(c)\n",
    "d"
   ]
  },
  {
   "cell_type": "code",
   "execution_count": null,
   "id": "4a8da819",
   "metadata": {},
   "outputs": [],
   "source": []
  },
  {
   "cell_type": "code",
   "execution_count": null,
   "id": "3652f9b7",
   "metadata": {},
   "outputs": [],
   "source": []
  },
  {
   "cell_type": "code",
   "execution_count": 125,
   "id": "ef37cad9",
   "metadata": {},
   "outputs": [
    {
     "data": {
      "text/plain": [
       "{1, 2, 3, 4, 5, 6, 7, 8, 9}"
      ]
     },
     "execution_count": 125,
     "metadata": {},
     "output_type": "execute_result"
    }
   ],
   "source": [
    "a={1,2,3,4,5,6}\n",
    "b={7,8,9,1,2}\n",
    "a.update(b)\n",
    "a\n"
   ]
  },
  {
   "cell_type": "code",
   "execution_count": null,
   "id": "829d40d8",
   "metadata": {},
   "outputs": [],
   "source": []
  }
 ],
 "metadata": {
  "kernelspec": {
   "display_name": "Python 3 (ipykernel)",
   "language": "python",
   "name": "python3"
  },
  "language_info": {
   "codemirror_mode": {
    "name": "ipython",
    "version": 3
   },
   "file_extension": ".py",
   "mimetype": "text/x-python",
   "name": "python",
   "nbconvert_exporter": "python",
   "pygments_lexer": "ipython3",
   "version": "3.10.9"
  }
 },
 "nbformat": 4,
 "nbformat_minor": 5
}
